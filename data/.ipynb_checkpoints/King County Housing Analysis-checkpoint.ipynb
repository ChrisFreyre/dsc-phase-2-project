{
 "cells": [
  {
   "cell_type": "markdown",
   "id": "19c240de",
   "metadata": {},
   "source": [
    "<h1 align=center>King County Housing Analysis</h1>\n"
   ]
  },
  {
   "cell_type": "markdown",
   "id": "bdf9e73d",
   "metadata": {},
   "source": [
    "### Importing Libraries"
   ]
  },
  {
   "cell_type": "code",
   "execution_count": 1,
   "id": "8834a40a",
   "metadata": {},
   "outputs": [],
   "source": [
    "import pandas as pd\n",
    "import numpy as np\n",
    "import seaborn as sns\n",
    "import matplotlib.pyplot as plt\n",
    "%matplotlib inline\n",
    "import scipy.stats as stats\n",
    "import statsmodels.stats.api as sms\n",
    "import statsmodels.formula.api as smf\n",
    "from sklearn.linear_model import LinearRegression\n",
    "import statsmodels.api as sm\n",
    "from statsmodels.formula.api import ols\n",
    "from sklearn.metrics import mean_squared_error, r2_score, mean_absolute_error\n",
    "from sklearn.model_selection import train_test_split\n",
    "from math import sqrt\n",
    "from random import gauss\n",
    "from mpl_toolkits import mplot3d\n",
    "import sklearn.metrics as metrics\n",
    "import statsmodels.api as sm\n",
    "from sklearn.metrics import mean_squared_error, make_scorer\n",
    "from sklearn.model_selection import cross_val_score\n",
    "import warnings\n",
    "warnings.filterwarnings('ignore')\n",
    "\n"
   ]
  },
  {
   "cell_type": "markdown",
   "id": "5124b676",
   "metadata": {},
   "source": [
    " <h2 align=center>Understanding the Data</h2>"
   ]
  },
  {
   "cell_type": "code",
   "execution_count": 2,
   "id": "0101835e",
   "metadata": {},
   "outputs": [],
   "source": [
    "# IMPORTING THE DATA \n",
    "df = pd.read_csv('../data/kc_house_data.csv')\n"
   ]
  },
  {
   "cell_type": "code",
   "execution_count": 3,
   "id": "644d134e",
   "metadata": {},
   "outputs": [
    {
     "data": {
      "text/plain": [
       "(21597, 21)"
      ]
     },
     "execution_count": 3,
     "metadata": {},
     "output_type": "execute_result"
    }
   ],
   "source": [
    "# SHAPE OF DATA FRAME\n",
    "df.shape"
   ]
  },
  {
   "cell_type": "code",
   "execution_count": 4,
   "id": "11d35fd0",
   "metadata": {},
   "outputs": [
    {
     "data": {
      "text/html": [
       "<div>\n",
       "<style scoped>\n",
       "    .dataframe tbody tr th:only-of-type {\n",
       "        vertical-align: middle;\n",
       "    }\n",
       "\n",
       "    .dataframe tbody tr th {\n",
       "        vertical-align: top;\n",
       "    }\n",
       "\n",
       "    .dataframe thead th {\n",
       "        text-align: right;\n",
       "    }\n",
       "</style>\n",
       "<table border=\"1\" class=\"dataframe\">\n",
       "  <thead>\n",
       "    <tr style=\"text-align: right;\">\n",
       "      <th></th>\n",
       "      <th>id</th>\n",
       "      <th>date</th>\n",
       "      <th>price</th>\n",
       "      <th>bedrooms</th>\n",
       "      <th>bathrooms</th>\n",
       "      <th>sqft_living</th>\n",
       "      <th>sqft_lot</th>\n",
       "      <th>floors</th>\n",
       "      <th>waterfront</th>\n",
       "      <th>view</th>\n",
       "      <th>...</th>\n",
       "      <th>grade</th>\n",
       "      <th>sqft_above</th>\n",
       "      <th>sqft_basement</th>\n",
       "      <th>yr_built</th>\n",
       "      <th>yr_renovated</th>\n",
       "      <th>zipcode</th>\n",
       "      <th>lat</th>\n",
       "      <th>long</th>\n",
       "      <th>sqft_living15</th>\n",
       "      <th>sqft_lot15</th>\n",
       "    </tr>\n",
       "  </thead>\n",
       "  <tbody>\n",
       "    <tr>\n",
       "      <th>0</th>\n",
       "      <td>7129300520</td>\n",
       "      <td>10/13/2014</td>\n",
       "      <td>221900.0</td>\n",
       "      <td>3</td>\n",
       "      <td>1.00</td>\n",
       "      <td>1180</td>\n",
       "      <td>5650</td>\n",
       "      <td>1.0</td>\n",
       "      <td>NaN</td>\n",
       "      <td>0.0</td>\n",
       "      <td>...</td>\n",
       "      <td>7</td>\n",
       "      <td>1180</td>\n",
       "      <td>0.0</td>\n",
       "      <td>1955</td>\n",
       "      <td>0.0</td>\n",
       "      <td>98178</td>\n",
       "      <td>47.5112</td>\n",
       "      <td>-122.257</td>\n",
       "      <td>1340</td>\n",
       "      <td>5650</td>\n",
       "    </tr>\n",
       "    <tr>\n",
       "      <th>1</th>\n",
       "      <td>6414100192</td>\n",
       "      <td>12/9/2014</td>\n",
       "      <td>538000.0</td>\n",
       "      <td>3</td>\n",
       "      <td>2.25</td>\n",
       "      <td>2570</td>\n",
       "      <td>7242</td>\n",
       "      <td>2.0</td>\n",
       "      <td>0.0</td>\n",
       "      <td>0.0</td>\n",
       "      <td>...</td>\n",
       "      <td>7</td>\n",
       "      <td>2170</td>\n",
       "      <td>400.0</td>\n",
       "      <td>1951</td>\n",
       "      <td>1991.0</td>\n",
       "      <td>98125</td>\n",
       "      <td>47.7210</td>\n",
       "      <td>-122.319</td>\n",
       "      <td>1690</td>\n",
       "      <td>7639</td>\n",
       "    </tr>\n",
       "    <tr>\n",
       "      <th>2</th>\n",
       "      <td>5631500400</td>\n",
       "      <td>2/25/2015</td>\n",
       "      <td>180000.0</td>\n",
       "      <td>2</td>\n",
       "      <td>1.00</td>\n",
       "      <td>770</td>\n",
       "      <td>10000</td>\n",
       "      <td>1.0</td>\n",
       "      <td>0.0</td>\n",
       "      <td>0.0</td>\n",
       "      <td>...</td>\n",
       "      <td>6</td>\n",
       "      <td>770</td>\n",
       "      <td>0.0</td>\n",
       "      <td>1933</td>\n",
       "      <td>NaN</td>\n",
       "      <td>98028</td>\n",
       "      <td>47.7379</td>\n",
       "      <td>-122.233</td>\n",
       "      <td>2720</td>\n",
       "      <td>8062</td>\n",
       "    </tr>\n",
       "    <tr>\n",
       "      <th>3</th>\n",
       "      <td>2487200875</td>\n",
       "      <td>12/9/2014</td>\n",
       "      <td>604000.0</td>\n",
       "      <td>4</td>\n",
       "      <td>3.00</td>\n",
       "      <td>1960</td>\n",
       "      <td>5000</td>\n",
       "      <td>1.0</td>\n",
       "      <td>0.0</td>\n",
       "      <td>0.0</td>\n",
       "      <td>...</td>\n",
       "      <td>7</td>\n",
       "      <td>1050</td>\n",
       "      <td>910.0</td>\n",
       "      <td>1965</td>\n",
       "      <td>0.0</td>\n",
       "      <td>98136</td>\n",
       "      <td>47.5208</td>\n",
       "      <td>-122.393</td>\n",
       "      <td>1360</td>\n",
       "      <td>5000</td>\n",
       "    </tr>\n",
       "    <tr>\n",
       "      <th>4</th>\n",
       "      <td>1954400510</td>\n",
       "      <td>2/18/2015</td>\n",
       "      <td>510000.0</td>\n",
       "      <td>3</td>\n",
       "      <td>2.00</td>\n",
       "      <td>1680</td>\n",
       "      <td>8080</td>\n",
       "      <td>1.0</td>\n",
       "      <td>0.0</td>\n",
       "      <td>0.0</td>\n",
       "      <td>...</td>\n",
       "      <td>8</td>\n",
       "      <td>1680</td>\n",
       "      <td>0.0</td>\n",
       "      <td>1987</td>\n",
       "      <td>0.0</td>\n",
       "      <td>98074</td>\n",
       "      <td>47.6168</td>\n",
       "      <td>-122.045</td>\n",
       "      <td>1800</td>\n",
       "      <td>7503</td>\n",
       "    </tr>\n",
       "    <tr>\n",
       "      <th>5</th>\n",
       "      <td>7237550310</td>\n",
       "      <td>5/12/2014</td>\n",
       "      <td>1230000.0</td>\n",
       "      <td>4</td>\n",
       "      <td>4.50</td>\n",
       "      <td>5420</td>\n",
       "      <td>101930</td>\n",
       "      <td>1.0</td>\n",
       "      <td>0.0</td>\n",
       "      <td>0.0</td>\n",
       "      <td>...</td>\n",
       "      <td>11</td>\n",
       "      <td>3890</td>\n",
       "      <td>1530.0</td>\n",
       "      <td>2001</td>\n",
       "      <td>0.0</td>\n",
       "      <td>98053</td>\n",
       "      <td>47.6561</td>\n",
       "      <td>-122.005</td>\n",
       "      <td>4760</td>\n",
       "      <td>101930</td>\n",
       "    </tr>\n",
       "    <tr>\n",
       "      <th>6</th>\n",
       "      <td>1321400060</td>\n",
       "      <td>6/27/2014</td>\n",
       "      <td>257500.0</td>\n",
       "      <td>3</td>\n",
       "      <td>2.25</td>\n",
       "      <td>1715</td>\n",
       "      <td>6819</td>\n",
       "      <td>2.0</td>\n",
       "      <td>0.0</td>\n",
       "      <td>0.0</td>\n",
       "      <td>...</td>\n",
       "      <td>7</td>\n",
       "      <td>1715</td>\n",
       "      <td>?</td>\n",
       "      <td>1995</td>\n",
       "      <td>0.0</td>\n",
       "      <td>98003</td>\n",
       "      <td>47.3097</td>\n",
       "      <td>-122.327</td>\n",
       "      <td>2238</td>\n",
       "      <td>6819</td>\n",
       "    </tr>\n",
       "    <tr>\n",
       "      <th>7</th>\n",
       "      <td>2008000270</td>\n",
       "      <td>1/15/2015</td>\n",
       "      <td>291850.0</td>\n",
       "      <td>3</td>\n",
       "      <td>1.50</td>\n",
       "      <td>1060</td>\n",
       "      <td>9711</td>\n",
       "      <td>1.0</td>\n",
       "      <td>0.0</td>\n",
       "      <td>NaN</td>\n",
       "      <td>...</td>\n",
       "      <td>7</td>\n",
       "      <td>1060</td>\n",
       "      <td>0.0</td>\n",
       "      <td>1963</td>\n",
       "      <td>0.0</td>\n",
       "      <td>98198</td>\n",
       "      <td>47.4095</td>\n",
       "      <td>-122.315</td>\n",
       "      <td>1650</td>\n",
       "      <td>9711</td>\n",
       "    </tr>\n",
       "    <tr>\n",
       "      <th>8</th>\n",
       "      <td>2414600126</td>\n",
       "      <td>4/15/2015</td>\n",
       "      <td>229500.0</td>\n",
       "      <td>3</td>\n",
       "      <td>1.00</td>\n",
       "      <td>1780</td>\n",
       "      <td>7470</td>\n",
       "      <td>1.0</td>\n",
       "      <td>0.0</td>\n",
       "      <td>0.0</td>\n",
       "      <td>...</td>\n",
       "      <td>7</td>\n",
       "      <td>1050</td>\n",
       "      <td>730.0</td>\n",
       "      <td>1960</td>\n",
       "      <td>0.0</td>\n",
       "      <td>98146</td>\n",
       "      <td>47.5123</td>\n",
       "      <td>-122.337</td>\n",
       "      <td>1780</td>\n",
       "      <td>8113</td>\n",
       "    </tr>\n",
       "    <tr>\n",
       "      <th>9</th>\n",
       "      <td>3793500160</td>\n",
       "      <td>3/12/2015</td>\n",
       "      <td>323000.0</td>\n",
       "      <td>3</td>\n",
       "      <td>2.50</td>\n",
       "      <td>1890</td>\n",
       "      <td>6560</td>\n",
       "      <td>2.0</td>\n",
       "      <td>0.0</td>\n",
       "      <td>0.0</td>\n",
       "      <td>...</td>\n",
       "      <td>7</td>\n",
       "      <td>1890</td>\n",
       "      <td>0.0</td>\n",
       "      <td>2003</td>\n",
       "      <td>0.0</td>\n",
       "      <td>98038</td>\n",
       "      <td>47.3684</td>\n",
       "      <td>-122.031</td>\n",
       "      <td>2390</td>\n",
       "      <td>7570</td>\n",
       "    </tr>\n",
       "  </tbody>\n",
       "</table>\n",
       "<p>10 rows × 21 columns</p>\n",
       "</div>"
      ],
      "text/plain": [
       "           id        date      price  bedrooms  bathrooms  sqft_living  \\\n",
       "0  7129300520  10/13/2014   221900.0         3       1.00         1180   \n",
       "1  6414100192   12/9/2014   538000.0         3       2.25         2570   \n",
       "2  5631500400   2/25/2015   180000.0         2       1.00          770   \n",
       "3  2487200875   12/9/2014   604000.0         4       3.00         1960   \n",
       "4  1954400510   2/18/2015   510000.0         3       2.00         1680   \n",
       "5  7237550310   5/12/2014  1230000.0         4       4.50         5420   \n",
       "6  1321400060   6/27/2014   257500.0         3       2.25         1715   \n",
       "7  2008000270   1/15/2015   291850.0         3       1.50         1060   \n",
       "8  2414600126   4/15/2015   229500.0         3       1.00         1780   \n",
       "9  3793500160   3/12/2015   323000.0         3       2.50         1890   \n",
       "\n",
       "   sqft_lot  floors  waterfront  view  ...  grade  sqft_above  sqft_basement  \\\n",
       "0      5650     1.0         NaN   0.0  ...      7        1180            0.0   \n",
       "1      7242     2.0         0.0   0.0  ...      7        2170          400.0   \n",
       "2     10000     1.0         0.0   0.0  ...      6         770            0.0   \n",
       "3      5000     1.0         0.0   0.0  ...      7        1050          910.0   \n",
       "4      8080     1.0         0.0   0.0  ...      8        1680            0.0   \n",
       "5    101930     1.0         0.0   0.0  ...     11        3890         1530.0   \n",
       "6      6819     2.0         0.0   0.0  ...      7        1715              ?   \n",
       "7      9711     1.0         0.0   NaN  ...      7        1060            0.0   \n",
       "8      7470     1.0         0.0   0.0  ...      7        1050          730.0   \n",
       "9      6560     2.0         0.0   0.0  ...      7        1890            0.0   \n",
       "\n",
       "  yr_built  yr_renovated  zipcode      lat     long  sqft_living15  sqft_lot15  \n",
       "0     1955           0.0    98178  47.5112 -122.257           1340        5650  \n",
       "1     1951        1991.0    98125  47.7210 -122.319           1690        7639  \n",
       "2     1933           NaN    98028  47.7379 -122.233           2720        8062  \n",
       "3     1965           0.0    98136  47.5208 -122.393           1360        5000  \n",
       "4     1987           0.0    98074  47.6168 -122.045           1800        7503  \n",
       "5     2001           0.0    98053  47.6561 -122.005           4760      101930  \n",
       "6     1995           0.0    98003  47.3097 -122.327           2238        6819  \n",
       "7     1963           0.0    98198  47.4095 -122.315           1650        9711  \n",
       "8     1960           0.0    98146  47.5123 -122.337           1780        8113  \n",
       "9     2003           0.0    98038  47.3684 -122.031           2390        7570  \n",
       "\n",
       "[10 rows x 21 columns]"
      ]
     },
     "execution_count": 4,
     "metadata": {},
     "output_type": "execute_result"
    }
   ],
   "source": [
    "# DATA FRAME\n",
    "df.head(10)"
   ]
  },
  {
   "cell_type": "code",
   "execution_count": 5,
   "id": "35d4c387",
   "metadata": {},
   "outputs": [
    {
     "data": {
      "text/plain": [
       "Index(['id', 'date', 'price', 'bedrooms', 'bathrooms', 'sqft_living',\n",
       "       'sqft_lot', 'floors', 'waterfront', 'view', 'condition', 'grade',\n",
       "       'sqft_above', 'sqft_basement', 'yr_built', 'yr_renovated', 'zipcode',\n",
       "       'lat', 'long', 'sqft_living15', 'sqft_lot15'],\n",
       "      dtype='object')"
      ]
     },
     "execution_count": 5,
     "metadata": {},
     "output_type": "execute_result"
    }
   ],
   "source": [
    "df.columns"
   ]
  },
  {
   "cell_type": "code",
   "execution_count": 12,
   "id": "67fe278e",
   "metadata": {},
   "outputs": [
    {
     "data": {
      "text/plain": [
       "array([2014, 2015])"
      ]
     },
     "execution_count": 12,
     "metadata": {},
     "output_type": "execute_result"
    }
   ],
   "source": [
    "# UNIQUE YEAR FOR THIS DATA FRAME\n",
    "\n",
    "df['year'] = pd.DatetimeIndex(df['date']).year\n",
    "df['year'].unique()"
   ]
  },
  {
   "cell_type": "code",
   "execution_count": null,
   "id": "371d3f47",
   "metadata": {},
   "outputs": [],
   "source": [
    "pd.options.display.float_format = lambda x : '{:.0f}'.format(x) if int(x) == x else '{:,.2f}'.format(x)\n",
    "df.describe()"
   ]
  },
  {
   "cell_type": "code",
   "execution_count": null,
   "id": "b45782ab",
   "metadata": {},
   "outputs": [],
   "source": [
    "df.info()"
   ]
  },
  {
   "cell_type": "code",
   "execution_count": null,
   "id": "3d4d3d9b",
   "metadata": {},
   "outputs": [],
   "source": [
    "# PLOT DATA HISTOGRAM\n",
    "df.hist(figsize=(15,15), edgecolor = 'black');"
   ]
  },
  {
   "cell_type": "code",
   "execution_count": null,
   "id": "61fd8e8c",
   "metadata": {},
   "outputs": [],
   "source": [
    "# HEATMAP FOR CORRELATION DATAFRAME\n",
    "\n",
    "corr = df.corr()\n",
    "mask = np.zeros_like(corr)\n",
    "mask[np.triu_indices_from(mask)] = True\n",
    "\n",
    "f, ax = plt.subplots(figsize=(15, 20))\n",
    "\n",
    "sns.heatmap(corr, mask=mask, cmap='coolwarm', vmax=1, center=0,\n",
    "            square=True, linewidths=.5,annot=True, cbar_kws={\"shrink\": .5});"
   ]
  },
  {
   "cell_type": "markdown",
   "id": "5f5656b9",
   "metadata": {},
   "source": [
    " <h2 align=center>Data Cleaning</h2>"
   ]
  },
  {
   "cell_type": "markdown",
   "id": "6563fa37",
   "metadata": {},
   "source": [
    "**Check List:**\n",
    "\n",
    "* Missing values\n",
    "* Data type conversions\n",
    "* Checking for and removing multicollinearity\n",
    "* Normalizing our numeric data\n",
    "* Converting categorical data to numeric\n",
    "\n"
   ]
  },
  {
   "cell_type": "code",
   "execution_count": null,
   "id": "0902761c",
   "metadata": {},
   "outputs": [],
   "source": [
    "# CHECKING FOR DUPLICATES\n",
    "\n",
    "len(set(df['id']))"
   ]
  },
  {
   "cell_type": "code",
   "execution_count": null,
   "id": "f6c07d00",
   "metadata": {},
   "outputs": [],
   "source": [
    "# DROPPING DUPLICATES IN ID COLUMN\n",
    "\n",
    "df.drop_duplicates(subset='id', inplace=True)\n",
    "df.shape"
   ]
  },
  {
   "cell_type": "code",
   "execution_count": null,
   "id": "eb3344f6",
   "metadata": {},
   "outputs": [],
   "source": [
    "# CHECKING FOR OBJECTS IN SQFT_BASEMENT\n",
    "\n",
    "df['sqft_basement'].head(10)"
   ]
  },
  {
   "cell_type": "code",
   "execution_count": null,
   "id": "bc8a1a5b",
   "metadata": {},
   "outputs": [],
   "source": [
    "# REPLACE VALUES IN 'SQFT_BASEMENT' == TO '?' FOR '0'\n",
    "\n",
    "df.loc[df['sqft_basement'] == '?','sqft_basement'] = 0.0"
   ]
  },
  {
   "cell_type": "code",
   "execution_count": null,
   "id": "dce47885",
   "metadata": {},
   "outputs": [],
   "source": [
    "# CHECKING 'YR_RENOVATED' \n",
    "\n",
    "df['yr_renovated'].head()"
   ]
  },
  {
   "cell_type": "code",
   "execution_count": null,
   "id": "4778ff94",
   "metadata": {},
   "outputs": [],
   "source": [
    "# CHANGING 'YR_RENOVATED' FOR 'INT64'\n",
    "\n",
    "df['yr_renovated'] = df['yr_renovated'].astype('Int64')\n",
    "df['yr_renovated']"
   ]
  },
  {
   "cell_type": "code",
   "execution_count": null,
   "id": "a2147386",
   "metadata": {},
   "outputs": [],
   "source": [
    "# CHECK FOR NULL VALUES\n",
    "\n",
    "df.isna().sum()"
   ]
  },
  {
   "cell_type": "code",
   "execution_count": null,
   "id": "06e47c82",
   "metadata": {},
   "outputs": [],
   "source": [
    "# 'WATERFRONT' VALUES\n",
    "\n",
    "df['waterfront'].unique()"
   ]
  },
  {
   "cell_type": "code",
   "execution_count": null,
   "id": "178acf4a",
   "metadata": {},
   "outputs": [],
   "source": [
    "# 'VIEW' VALUES\n",
    "\n",
    "df['view'].unique()"
   ]
  },
  {
   "cell_type": "code",
   "execution_count": null,
   "id": "1b5721e2",
   "metadata": {},
   "outputs": [],
   "source": [
    "# 'GRADE' VALUES\n",
    "\n",
    "df['grade'].unique()"
   ]
  },
  {
   "cell_type": "code",
   "execution_count": null,
   "id": "c3bc3036",
   "metadata": {},
   "outputs": [],
   "source": [
    "# 'condition' VALUES\n",
    "\n",
    "df['condition'].unique()"
   ]
  },
  {
   "cell_type": "code",
   "execution_count": null,
   "id": "c8bb970c",
   "metadata": {},
   "outputs": [],
   "source": [
    "# FILL NAN IN 'YR_RENOVATED' WITH '0'\n",
    "\n",
    "df['yr_renovated'] = df['yr_renovated'].fillna(0)"
   ]
  },
  {
   "cell_type": "code",
   "execution_count": null,
   "id": "44e5f531",
   "metadata": {},
   "outputs": [],
   "source": [
    "df.columns"
   ]
  },
  {
   "cell_type": "code",
   "execution_count": null,
   "id": "aeb4112f",
   "metadata": {},
   "outputs": [],
   "source": [
    "# DROPPING COLUMNS\n",
    "\n",
    "df.drop(columns = ['id', 'date', 'view', 'sqft_above', 'sqft_basement', 'yr_renovated', \n",
    "                   'zipcode', 'lat', 'long', 'sqft_living15', 'sqft_lot15'], inplace = True)"
   ]
  },
  {
   "cell_type": "code",
   "execution_count": null,
   "id": "c38f3c8c",
   "metadata": {},
   "outputs": [],
   "source": [
    "df"
   ]
  },
  {
   "cell_type": "code",
   "execution_count": null,
   "id": "93719f05",
   "metadata": {},
   "outputs": [],
   "source": [
    "df.corr()"
   ]
  },
  {
   "cell_type": "code",
   "execution_count": null,
   "id": "e6fb5a65",
   "metadata": {},
   "outputs": [],
   "source": [
    "# HEATMAP FOR CORRELATION DATAFRAME\n",
    "\n",
    "corr = df.corr()\n",
    "mask = np.zeros_like(corr)\n",
    "mask[np.triu_indices_from(mask)] = True\n",
    "\n",
    "f, ax = plt.subplots(figsize=(15, 20))\n",
    "\n",
    "sns.heatmap(corr, mask=mask, cmap='coolwarm', vmax=1, center=0,\n",
    "            square=True, linewidths=.5,annot=True, cbar_kws={\"shrink\": .5});"
   ]
  },
  {
   "cell_type": "code",
   "execution_count": null,
   "id": "799abd82",
   "metadata": {},
   "outputs": [],
   "source": [
    "df.columns"
   ]
  },
  {
   "cell_type": "code",
   "execution_count": null,
   "id": "3ad92058",
   "metadata": {},
   "outputs": [],
   "source": [
    "# PLOTING RELATIONSHIP BETWEEN PRICE (BEDROOM, BATHROOM AND SQFT_LINVING)\n",
    "\n",
    "fig, axs = plt.subplots(1, 3, sharey=True, figsize=(18, 6))\n",
    "for idx, channel in enumerate(['bedrooms', 'bathrooms', 'sqft_living']):\n",
    "    df.plot(kind='scatter', x=channel, y='price', ax=axs[idx], label=channel)\n",
    "plt.legend()\n",
    "plt.show()"
   ]
  },
  {
   "cell_type": "code",
   "execution_count": null,
   "id": "ff654809",
   "metadata": {},
   "outputs": [],
   "source": [
    "# PLOTING RELATIONSHIP BETWEEN PRICE (SQFT_LOT, FLOORS AND WATERFRONT)\n",
    "\n",
    "fig, axs = plt.subplots(1, 3, sharey=True, figsize=(18, 6))\n",
    "for idx, channel in enumerate(['sqft_lot', 'floors', 'waterfront']):\n",
    "    df.plot(kind='scatter', x=channel, y='price', ax=axs[idx], label=channel)\n",
    "plt.legend()\n",
    "plt.show()"
   ]
  },
  {
   "cell_type": "code",
   "execution_count": null,
   "id": "44cc16fd",
   "metadata": {},
   "outputs": [],
   "source": [
    "# PLOTING RELATIONSHIP BETWEEN PRICE (CONDITION, GRADE AND YR_BUILT)\n",
    "\n",
    "fig, axs = plt.subplots(1, 3, sharey=True, figsize=(18, 6))\n",
    "for idx, channel in enumerate(['condition', 'grade', 'yr_built']):\n",
    "    df.plot(kind='scatter', x=channel, y='price', ax=axs[idx], label=channel)\n",
    "plt.legend()\n",
    "plt.show()"
   ]
  },
  {
   "cell_type": "code",
   "execution_count": null,
   "id": "a01cc824",
   "metadata": {},
   "outputs": [],
   "source": [
    "# DROPPING 'WATERFRONT'\n",
    "\n",
    "df.drop(columns = ['waterfront'], inplace = True)"
   ]
  },
  {
   "cell_type": "code",
   "execution_count": null,
   "id": "9f707797",
   "metadata": {},
   "outputs": [],
   "source": [
    "# WE CAN SEE 33 BEDROOMS AND OTHER ANOMALIES THAT WILL BE CONSIDER OUTLIERS\n",
    "\n",
    "pd.options.display.float_format = lambda x : '{:.0f}'.format(x) if int(x) == x else '{:,.2f}'.format(x)\n",
    "df.describe()"
   ]
  },
  {
   "cell_type": "code",
   "execution_count": null,
   "id": "3c5fbc8c",
   "metadata": {},
   "outputs": [],
   "source": [
    "# OBTAINING Z-SCORES  \n",
    "zscore = np.abs(stats.zscore(df))\n",
    "zscore "
   ]
  },
  {
   "cell_type": "code",
   "execution_count": null,
   "id": "c7f32647",
   "metadata": {},
   "outputs": [],
   "source": [
    "# DETECTING OUTLIERS WITH OVER 3 STANDARD DEVIATION FROM THE MEAN IN DATAFRAME\n",
    "\n",
    "outliers = df[(np.abs(zscore) > 3).any(1)]\n",
    "outliers"
   ]
  },
  {
   "cell_type": "code",
   "execution_count": null,
   "id": "1f625801",
   "metadata": {},
   "outputs": [],
   "source": [
    "# OUTLIER DESCRIBE TABLE EXAMPLE: 33 BEDROOMS \n",
    "\n",
    "pd.options.display.float_format = lambda x : '{:.0f}'.format(x) if int(x) == x else '{:,.2f}'.format(x)\n",
    "outliers.describe()"
   ]
  },
  {
   "cell_type": "code",
   "execution_count": null,
   "id": "99460e5d",
   "metadata": {},
   "outputs": [],
   "source": [
    "# OBTAINING ALL DATA THAT IS IN BETWEEN 3 STANDAR DEVIATION OF THE MEAN, ELIMINATING OUTLIERS\n",
    "\n",
    "df = df[(zscore < 3).all(axis=1)]\n",
    "df"
   ]
  },
  {
   "cell_type": "code",
   "execution_count": null,
   "id": "6d6effdf",
   "metadata": {},
   "outputs": [],
   "source": [
    "# NORMALIZING OUR NUMERIC DATA FOR DESCRIBE FUNCTION\n",
    "\n",
    "pd.options.display.float_format = lambda x : '{:.0f}'.format(x) if int(x) == x else '{:,.2f}'.format(x)\n",
    "df.describe()"
   ]
  },
  {
   "cell_type": "code",
   "execution_count": null,
   "id": "2c96de72",
   "metadata": {},
   "outputs": [],
   "source": [
    "# RE-PLOTING RELATIONSHIP BETWEEN PRICE (BEDROOM, BATHROOM AND SQFT_LINVING) AFTER ELIMINATING OUTLIERS\n",
    "\n",
    "fig, axs = plt.subplots(1, 3, sharey=True, figsize=(18, 6))\n",
    "for idx, channel in enumerate(['bedrooms', 'bathrooms', 'sqft_living']):\n",
    "    df.plot(kind='scatter', x=channel, y='price', ax=axs[idx], label=channel)\n",
    "plt.legend()\n",
    "plt.show()"
   ]
  },
  {
   "cell_type": "code",
   "execution_count": null,
   "id": "c5e78f48",
   "metadata": {},
   "outputs": [],
   "source": [
    "# RE-PLOTING RELATIONSHIP BETWEEN PRICE (SQFT_LOT AND FLOORS) AFTER ELIMINATING OUTLIERS\n",
    "\n",
    "fig, axs = plt.subplots(1, 2, sharey=True, figsize=(18, 6))\n",
    "for idx, channel in enumerate(['sqft_lot', 'floors']):\n",
    "    df.plot(kind='scatter', x=channel, y='price', ax=axs[idx], label=channel)\n",
    "plt.legend()\n",
    "plt.show()"
   ]
  },
  {
   "cell_type": "code",
   "execution_count": null,
   "id": "54c735c3",
   "metadata": {},
   "outputs": [],
   "source": [
    "# RE-PLOTING RELATIONSHIP BETWEEN PRICE (CONDITION, GRADE AND YR_BUILT) AFTER ELIMINATING OUTLIERS\n",
    "\n",
    "\n",
    "fig, axs = plt.subplots(1, 3, sharey=True, figsize=(18, 6))\n",
    "for idx, channel in enumerate(['condition', 'grade', 'yr_built']):\n",
    "    df.plot(kind='scatter', x=channel, y='price', ax=axs[idx], label=channel)\n",
    "plt.legend()\n",
    "plt.show()"
   ]
  },
  {
   "cell_type": "markdown",
   "id": "3d08efe7",
   "metadata": {},
   "source": [
    " <h2 align=center>Baseline Model</h2>"
   ]
  },
  {
   "cell_type": "code",
   "execution_count": null,
   "id": "60d8d06f",
   "metadata": {},
   "outputs": [],
   "source": [
    "# DROPPING COLUMNS\n",
    "df.drop(columns = ['floors', 'yr_built'], inplace = True)"
   ]
  },
  {
   "cell_type": "code",
   "execution_count": null,
   "id": "f3540ef5",
   "metadata": {},
   "outputs": [],
   "source": [
    "df.columns"
   ]
  },
  {
   "cell_type": "code",
   "execution_count": null,
   "id": "3131bc05",
   "metadata": {},
   "outputs": [],
   "source": [
    "# DATA SEPARATION INTO PREDITORS AND TARGET\n",
    "\n",
    "house_preds = df.drop('price', axis=1)\n",
    "house_target = df['price']\n",
    "house_preds.head()"
   ]
  },
  {
   "cell_type": "code",
   "execution_count": null,
   "id": "c4fad7ba",
   "metadata": {},
   "outputs": [],
   "source": [
    "# INDIPENDENT VARIABLES \n",
    "\n",
    "predictors = sm.add_constant(house_preds)\n",
    "predictors.head()"
   ]
  },
  {
   "cell_type": "code",
   "execution_count": null,
   "id": "7ec5b4a5",
   "metadata": {},
   "outputs": [],
   "source": [
    "# BASELINE MODEL \n",
    "\n",
    "baseline_model = sm.OLS(house_target, predictors).fit ()\n"
   ]
  },
  {
   "cell_type": "code",
   "execution_count": null,
   "id": "75cea9ea",
   "metadata": {},
   "outputs": [],
   "source": [
    "baseline_model.summary()"
   ]
  },
  {
   "cell_type": "markdown",
   "id": "bbb70cb6",
   "metadata": {},
   "source": [
    "\n",
    "**This means that 59.5% of the variation in the dependent variable is explained by variation in the explanatory variable. Meaning that we still have 40.5% of the variation is unexplained by the model.** \n",
    "\n",
    "**So let's get back to it to refine our model.**"
   ]
  },
  {
   "cell_type": "code",
   "execution_count": null,
   "id": "597af687",
   "metadata": {},
   "outputs": [],
   "source": [
    "residuals = baseline_model.resid\n",
    "sm.graphics.qqplot(residuals, dist=stats.norm, line='45', fit=True, )    \n",
    "plt.show;"
   ]
  },
  {
   "cell_type": "markdown",
   "id": "1055e6cc",
   "metadata": {},
   "source": [
    "# Assumption of regression"
   ]
  },
  {
   "cell_type": "code",
   "execution_count": null,
   "id": "eb4281cd",
   "metadata": {},
   "outputs": [],
   "source": [
    "# Correlation 'Price' vs all variables\n",
    "\n",
    "data_corrs = df.corr()['price'].map(abs).sort_values(ascending=False)\n",
    "data_corrs"
   ]
  },
  {
   "cell_type": "code",
   "execution_count": null,
   "id": "c8bc5f9f",
   "metadata": {},
   "outputs": [],
   "source": [
    "df.columns"
   ]
  },
  {
   "cell_type": "code",
   "execution_count": null,
   "id": "c5457d70",
   "metadata": {},
   "outputs": [],
   "source": [
    "# PLOTING RELATIONSHIP BETWEEN PRICE (BEDROOM, BATHROOM, SQFT_LINVING AND GRADE) AFTER ELIMINATING OUTLIERS\n",
    "\n",
    "fig, axs = plt.subplots(1, 4, sharey=True, figsize=(18, 6))\n",
    "for idx, channel in enumerate(['bedrooms', 'bathrooms', 'sqft_living', 'grade']):\n",
    "    df.plot(kind='scatter', x=channel, y='price', ax=axs[idx], label=channel)\n",
    "plt.legend()\n",
    "plt.show()"
   ]
  },
  {
   "cell_type": "code",
   "execution_count": null,
   "id": "160f7953",
   "metadata": {},
   "outputs": [],
   "source": [
    "# Regression Plots for 'Price vs Sqft_living'\n",
    "\n",
    "fig = plt.figure(figsize=(15,8))\n",
    "fig = sm.graphics.plot_regress_exog(baseline_model, \"sqft_living\", fig=fig)\n",
    "plt.show()"
   ]
  },
  {
   "cell_type": "markdown",
   "id": "c3f894b2",
   "metadata": {},
   "source": [
    "Now we see that is a strong correlation meaning that has a homoscedasticity between price and sqft_living is following a great line. Also we can see that bedrooms, bathrooms and grade are categorical so we will need to create dummy variables for each so we can have a more accurate model."
   ]
  },
  {
   "cell_type": "code",
   "execution_count": null,
   "id": "5724f783",
   "metadata": {},
   "outputs": [],
   "source": [
    "# PREPARATION OF BATHROOMS COLUMNS\n",
    "\n",
    "df = df[['price', 'bedrooms', 'bathrooms', 'sqft_living', 'sqft_lot',\n",
    "       'condition', 'grade']] # deleted foors and yr_built\n",
    "df.loc[df['bathrooms'] <= 1,'bathrooms'] = 1\n",
    "df.loc[(df['bathrooms'] > 1) & (df['bathrooms'] <= 2),'bathrooms'] = 2\n",
    "df.loc[(df['bathrooms'] > 2) & (df['bathrooms'] <= 3),'bathrooms'] = 3\n",
    "df.loc[(df['bathrooms'] > 3) & (df['bathrooms'] <= 4),'bathrooms'] = 4\n",
    "df.loc[(df['bathrooms'] > 4) & (df['bathrooms'] <= 5),'bathrooms'] = 5\n",
    "df.loc[(df['bathrooms'] > 5) & (df['bathrooms'] <= 6),'bathrooms'] = 6\n",
    "df.loc[(df['bathrooms'] > 6) & (df['bathrooms'] <= 7),'bathrooms'] = 7\n",
    "df.loc[(df['bathrooms'] > 7) & (df['bathrooms'] <= 8),'bathrooms'] = 8"
   ]
  },
  {
   "cell_type": "code",
   "execution_count": null,
   "id": "bebce04b",
   "metadata": {},
   "outputs": [],
   "source": [
    "# CREATING A COPY OF DATA FRAME BEFORE MODIFIYING WITH DUMMIES FOR FUTURE MODELS\n",
    "\n",
    "df_model = df.copy()\n",
    "df_model"
   ]
  },
  {
   "cell_type": "code",
   "execution_count": null,
   "id": "4d5633c0",
   "metadata": {},
   "outputs": [],
   "source": [
    "pd.plotting.scatter_matrix(df, figsize=(18,12));\n"
   ]
  },
  {
   "cell_type": "code",
   "execution_count": null,
   "id": "82d5ba72",
   "metadata": {},
   "outputs": [],
   "source": [
    "df.columns"
   ]
  },
  {
   "cell_type": "code",
   "execution_count": null,
   "id": "69ca3664",
   "metadata": {},
   "outputs": [],
   "source": [
    "df"
   ]
  },
  {
   "cell_type": "code",
   "execution_count": null,
   "id": "91446ef7",
   "metadata": {},
   "outputs": [],
   "source": [
    "# CHANGING 'BATHROOMS' TO INT64\n",
    "\n",
    "df['bathrooms'] = df['bathrooms'].astype('Int64')"
   ]
  },
  {
   "cell_type": "markdown",
   "id": "c288063b",
   "metadata": {},
   "source": [
    " <h3 align=center>Data with Dummies</h3>"
   ]
  },
  {
   "cell_type": "code",
   "execution_count": null,
   "id": "6ee42df0",
   "metadata": {},
   "outputs": [],
   "source": [
    "# ADDING DUMMIES FOR \"GRADE\", \"BEDROOMS\" AND \"BATHROOMS\" \n",
    "\n",
    "df_dummies = pd.get_dummies(df, columns=['grade', 'bedrooms', 'bathrooms'])"
   ]
  },
  {
   "cell_type": "code",
   "execution_count": null,
   "id": "83ecec52",
   "metadata": {},
   "outputs": [],
   "source": [
    "df.info()"
   ]
  },
  {
   "cell_type": "code",
   "execution_count": null,
   "id": "edab3928",
   "metadata": {},
   "outputs": [],
   "source": [
    "#df.columns\n",
    "\n",
    "df_dummies.columns"
   ]
  },
  {
   "cell_type": "markdown",
   "id": "2d066d44",
   "metadata": {},
   "source": [
    "# Model 2 "
   ]
  },
  {
   "cell_type": "code",
   "execution_count": null,
   "id": "d2a075f2",
   "metadata": {},
   "outputs": [],
   "source": [
    "outcome = 'price'\n",
    "x_cols = ['sqft_living', 'sqft_lot', 'condition',  # yr_built and # floors\n",
    "       'grade_5', 'grade_6', 'grade_7', 'grade_8', 'grade_9', 'grade_10',\n",
    "       'grade_11', 'bedrooms_1', 'bedrooms_2', 'bedrooms_3', 'bedrooms_4',\n",
    "       'bedrooms_5', 'bedrooms_6', 'bathrooms_1', 'bathrooms_2', 'bathrooms_3',\n",
    "       'bathrooms_4', 'bathrooms_5']\n",
    "predictors = '+'.join(x_cols)\n",
    "formula = outcome + '~' + predictors\n",
    "model_2 = ols(formula=formula, data=df_dummies).fit()\n",
    "\n",
    "\n",
    "model_2.summary()"
   ]
  },
  {
   "cell_type": "code",
   "execution_count": null,
   "id": "cb0f39c4",
   "metadata": {},
   "outputs": [],
   "source": [
    "residuals = model_2.resid\n",
    "sm.graphics.qqplot(residuals, dist=stats.norm, line='45', fit=True, )    \n",
    "plt.show;"
   ]
  },
  {
   "cell_type": "markdown",
   "id": "31f0d1c1",
   "metadata": {},
   "source": [
    " <h3 align=center>Validation Model 2</h3>"
   ]
  },
  {
   "cell_type": "code",
   "execution_count": null,
   "id": "91833692",
   "metadata": {},
   "outputs": [],
   "source": [
    "# SELECTING 'X' AND 'Y' VALUES FROM 'DATA_LOG' FOR TRAIN-TEST SPLIT\n",
    "X = df_dummies.drop('price', axis=1)\n",
    "y = df_dummies['price']\n",
    "\n",
    "df_dummies"
   ]
  },
  {
   "cell_type": "code",
   "execution_count": null,
   "id": "c1425827",
   "metadata": {},
   "outputs": [],
   "source": [
    "# TRAIN-TEST SPLIT0\n",
    "\n",
    "X_train, X_test, y_train, y_test = train_test_split(X, y, test_size=0.2, random_state=4)\n",
    "print(len(X_train), len(X_test), len(y_train), len(y_test))"
   ]
  },
  {
   "cell_type": "code",
   "execution_count": null,
   "id": "7e53017c",
   "metadata": {},
   "outputs": [],
   "source": [
    "# APPLY AND MODEL THE TRAIN-TEST SET\n",
    "linreg = LinearRegression()\n",
    "linreg.fit(X_train, y_train)\n",
    "\n",
    "y_hat_train = linreg.predict(X_train)\n",
    "y_hat_test = linreg.predict(X_test)\n",
    "\n",
    "\n",
    "#CALCULATE TRAINING AND TEST RESIDUALS\n",
    "train_residuals = y_hat_train - y_train\n",
    "test_residuals = y_hat_test - y_test\n",
    "\n",
    "\n",
    "# CALCUALTE MEAN SQUARE ERROR\n",
    "train_mse = mean_squared_error(y_train, y_hat_train)\n",
    "test_mse = mean_squared_error(y_test, y_hat_test)\n",
    "print('Train Mean Squared Error:', train_mse)\n",
    "print('Test Mean Squared Error:', test_mse)"
   ]
  },
  {
   "cell_type": "code",
   "execution_count": null,
   "id": "a459b163",
   "metadata": {},
   "outputs": [],
   "source": [
    "# CROSS VALIDATION RESULTS \n",
    "mse = make_scorer(mean_squared_error)\n",
    "cv_5_results = cross_val_score(linreg, X, y, cv=5, scoring=mse)\n",
    "cv_5_results.mean()"
   ]
  },
  {
   "cell_type": "code",
   "execution_count": null,
   "id": "add65b82",
   "metadata": {},
   "outputs": [],
   "source": [
    "# PLOT DATA\n",
    "df_dummies.hist(column= ['price', 'sqft_living'] ,figsize=(8,3), edgecolor = 'black');"
   ]
  },
  {
   "cell_type": "markdown",
   "id": "2a0c7be0",
   "metadata": {},
   "source": [
    "<h3 align=center>Data Log Transformation</h3>"
   ]
  },
  {
   "cell_type": "code",
   "execution_count": null,
   "id": "6568780d",
   "metadata": {},
   "outputs": [],
   "source": [
    "# PERFORM DATA LOG TRANSFORMATION \n",
    "\n",
    "data_log = pd.DataFrame([])\n",
    "   \n",
    "data_log['price_log'] = np.log(df_model['price'])\n",
    "data_log['bedrooms'] = (df_model['bedrooms'])\n",
    "data_log['bathrooms'] = (df_model['bathrooms'])\n",
    "data_log['sqft_living_log'] = np.log(df_model['sqft_living'])\n",
    "data_log['sqft_lot_log'] = np.log(df_model['sqft_lot'])\n",
    "data_log['condition'] = (df_model['condition'])\n",
    "data_log['grade'] = (df_model['grade'])\n",
    "   \n",
    "data_log.hist(figsize  = [18,8]);"
   ]
  },
  {
   "cell_type": "code",
   "execution_count": null,
   "id": "cb140f68",
   "metadata": {},
   "outputs": [],
   "source": [
    "# CHANGING 'BATHROOMS' TO INT64\n",
    "\n",
    "data_log['bathrooms'] = data_log['bathrooms'].astype('Int64')"
   ]
  },
  {
   "cell_type": "code",
   "execution_count": null,
   "id": "a55f2c42",
   "metadata": {},
   "outputs": [],
   "source": [
    "# ADDING DUMMIES FOR \"GRADE\", \"BEDROOMS\" AND \"BATHROOMS\" \n",
    "\n",
    "data_log = pd.get_dummies(data_log, columns=['grade', 'bedrooms', 'bathrooms', 'condition'])"
   ]
  },
  {
   "cell_type": "code",
   "execution_count": null,
   "id": "f3e7ed65",
   "metadata": {},
   "outputs": [],
   "source": [
    "data_log"
   ]
  },
  {
   "cell_type": "markdown",
   "id": "e38371a1",
   "metadata": {},
   "source": [
    "# Model 3"
   ]
  },
  {
   "cell_type": "code",
   "execution_count": null,
   "id": "2ebb1786",
   "metadata": {},
   "outputs": [],
   "source": [
    "data_log.columns"
   ]
  },
  {
   "cell_type": "code",
   "execution_count": null,
   "id": "251b599d",
   "metadata": {},
   "outputs": [],
   "source": [
    "outcome = 'price_log'\n",
    "x_cols = ['sqft_living_log', 'sqft_lot_log', 'grade_5',\n",
    "       'grade_6', 'grade_7', 'grade_8', 'grade_9', 'grade_10', 'grade_11',\n",
    "       'bedrooms_1', 'bedrooms_2', 'bedrooms_3', 'bedrooms_4', 'bedrooms_5',\n",
    "       'bedrooms_6', 'bathrooms_1', 'bathrooms_2', 'bathrooms_3',\n",
    "       'bathrooms_4', 'bathrooms_5', 'condition_2', 'condition_3', 'condition_4',\n",
    "       'condition_5']\n",
    "predictors = '+'.join(x_cols)\n",
    "formula = outcome + '~' + predictors\n",
    "model_3 = ols(formula=formula, data=data_log).fit()\n",
    "\n",
    "model_3.summary()"
   ]
  },
  {
   "cell_type": "code",
   "execution_count": null,
   "id": "b8e26b15",
   "metadata": {},
   "outputs": [],
   "source": [
    " residuals = model_3.resid\n",
    "sm.graphics.qqplot(residuals, dist=stats.norm, line='45', fit=True, )    \n",
    "plt.show;"
   ]
  },
  {
   "cell_type": "markdown",
   "id": "16a1deca",
   "metadata": {},
   "source": [
    " <h3 align=center>Validation Model 3</h3>"
   ]
  },
  {
   "cell_type": "code",
   "execution_count": null,
   "id": "6daed5dd",
   "metadata": {},
   "outputs": [],
   "source": [
    "# SELECTING 'X' AND 'Y' VALUES FROM 'DATA_LOG' FOR TRAIN-TEST SPLIT\n",
    "\n",
    "X = data_log.drop('price_log', axis=1)\n",
    "y = data_log['price_log']\n",
    "\n",
    "data_log"
   ]
  },
  {
   "cell_type": "code",
   "execution_count": null,
   "id": "97278e5b",
   "metadata": {},
   "outputs": [],
   "source": [
    "# TRAIN-TEST SPLIT\n",
    "\n",
    "X_train, X_test, y_train, y_test = train_test_split(X, y, test_size=0.2, random_state=4)\n",
    "print(len(X_train), len(X_test), len(y_train), len(y_test))"
   ]
  },
  {
   "cell_type": "code",
   "execution_count": null,
   "id": "9b929e4b",
   "metadata": {},
   "outputs": [],
   "source": [
    "# APPLY AND MODEL THE TRAIN-TEST SET\n",
    "linreg = LinearRegression()\n",
    "linreg.fit(X_train, y_train)\n",
    "\n",
    "y_hat_train = linreg.predict(X_train)\n",
    "y_hat_test = linreg.predict(X_test)\n",
    "\n",
    "\n",
    "#CALCULATE TRAINING AND TEST RESIDUALS\n",
    "train_residuals = y_hat_train - y_train\n",
    "test_residuals = y_hat_test - y_test\n",
    "\n",
    "\n",
    "# CALCUALTE MEAN SQUARE ERROR\n",
    "train_mse = mean_squared_error(y_train, y_hat_train)\n",
    "test_mse = mean_squared_error(y_test, y_hat_test)\n",
    "print('Train Mean Squared Error:', train_mse)\n",
    "print('Test Mean Squared Error:', test_mse)"
   ]
  },
  {
   "cell_type": "code",
   "execution_count": null,
   "id": "ce59d1ad",
   "metadata": {},
   "outputs": [],
   "source": [
    "# CROSS VALIDATION RESULTS \n",
    "mse = make_scorer(mean_squared_error)\n",
    "cv_5_results = cross_val_score(linreg, X, y, cv=5, scoring=mse)\n",
    "cv_5_results.mean()"
   ]
  }
 ],
 "metadata": {
  "kernelspec": {
   "display_name": "Python 3 (ipykernel)",
   "language": "python",
   "name": "python3"
  },
  "language_info": {
   "codemirror_mode": {
    "name": "ipython",
    "version": 3
   },
   "file_extension": ".py",
   "mimetype": "text/x-python",
   "name": "python",
   "nbconvert_exporter": "python",
   "pygments_lexer": "ipython3",
   "version": "3.9.7"
  }
 },
 "nbformat": 4,
 "nbformat_minor": 5
}
